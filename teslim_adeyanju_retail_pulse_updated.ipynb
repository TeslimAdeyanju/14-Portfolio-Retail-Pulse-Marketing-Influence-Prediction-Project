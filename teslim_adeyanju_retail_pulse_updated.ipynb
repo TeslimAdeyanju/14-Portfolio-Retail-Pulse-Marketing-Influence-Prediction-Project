{
 "cells": [
  {
   "cell_type": "markdown",
   "id": "2d14cdd8",
   "metadata": {},
   "source": [
    "## 1. Data Loading & Inspection"
   ]
  },
  {
   "cell_type": "code",
   "execution_count": 1,
   "id": "41920cf2",
   "metadata": {},
   "outputs": [
    {
     "data": {
      "application/vnd.microsoft.datawrangler.viewer.v0+json": {
       "columns": [
        {
         "name": "index",
         "rawType": "int64",
         "type": "integer"
        },
        {
         "name": "Cus.ID",
         "rawType": "int64",
         "type": "integer"
        },
        {
         "name": "Date",
         "rawType": "object",
         "type": "string"
        },
        {
         "name": "Cus. Location",
         "rawType": "object",
         "type": "string"
        },
        {
         "name": "Age",
         "rawType": "int64",
         "type": "integer"
        },
        {
         "name": "Gender",
         "rawType": "object",
         "type": "string"
        },
        {
         "name": "Mobile Name",
         "rawType": "object",
         "type": "string"
        },
        {
         "name": "Sell Price",
         "rawType": "float64",
         "type": "float"
        },
        {
         "name": "Does he/she Come from Facebook Page?",
         "rawType": "object",
         "type": "string"
        },
        {
         "name": "Does he/she Followed Our Page?",
         "rawType": "object",
         "type": "string"
        },
        {
         "name": "Did he/she buy any mobile before?",
         "rawType": "object",
         "type": "string"
        },
        {
         "name": "Did he/she hear of our shop before?",
         "rawType": "object",
         "type": "string"
        }
       ],
       "ref": "8039a682-9f3c-4d8e-8a81-a104724b6708",
       "rows": [
        [
         "0",
         "1",
         "27-05-2024",
         "Rangamati Sadar",
         "49",
         "F",
         "Galaxy A55 5G 8/128",
         "17073.0",
         "No",
         "Yes",
         "No",
         "Yes"
        ],
        [
         "1",
         "2",
         "27-05-2024",
         "Inside Rangamati",
         "44",
         "M",
         "Redmi Note 12 Pro 8/128",
         "15546.0",
         "Yes",
         "No",
         "No",
         "Yes"
        ],
        [
         "2",
         "3",
         "27-05-2024",
         "Rangamati Sadar",
         "45",
         "M",
         "R-70 Turbo 5G 6/128",
         "26516.0",
         "Yes",
         "No",
         "No",
         "Yes"
        ],
        [
         "3",
         "4",
         "27-05-2024",
         "Rangamati Sadar",
         "46",
         "M",
         "R-70 Turbo 5G 6/128",
         "21927.0",
         "No",
         "No",
         "No",
         "Yes"
        ],
        [
         "4",
         "5",
         "27-05-2024",
         "Outside Rangamati",
         "27",
         "F",
         "Vivo T3x 5G 8/128",
         "16718.0",
         "Yes",
         "No",
         "No",
         "Yes"
        ]
       ],
       "shape": {
        "columns": 11,
        "rows": 5
       }
      },
      "text/html": [
       "<div>\n",
       "<style scoped>\n",
       "    .dataframe tbody tr th:only-of-type {\n",
       "        vertical-align: middle;\n",
       "    }\n",
       "\n",
       "    .dataframe tbody tr th {\n",
       "        vertical-align: top;\n",
       "    }\n",
       "\n",
       "    .dataframe thead th {\n",
       "        text-align: right;\n",
       "    }\n",
       "</style>\n",
       "<table border=\"1\" class=\"dataframe\">\n",
       "  <thead>\n",
       "    <tr style=\"text-align: right;\">\n",
       "      <th></th>\n",
       "      <th>Cus.ID</th>\n",
       "      <th>Date</th>\n",
       "      <th>Cus. Location</th>\n",
       "      <th>Age</th>\n",
       "      <th>Gender</th>\n",
       "      <th>Mobile Name</th>\n",
       "      <th>Sell Price</th>\n",
       "      <th>Does he/she Come from Facebook Page?</th>\n",
       "      <th>Does he/she Followed Our Page?</th>\n",
       "      <th>Did he/she buy any mobile before?</th>\n",
       "      <th>Did he/she hear of our shop before?</th>\n",
       "    </tr>\n",
       "  </thead>\n",
       "  <tbody>\n",
       "    <tr>\n",
       "      <th>0</th>\n",
       "      <td>1</td>\n",
       "      <td>27-05-2024</td>\n",
       "      <td>Rangamati Sadar</td>\n",
       "      <td>49</td>\n",
       "      <td>F</td>\n",
       "      <td>Galaxy A55 5G 8/128</td>\n",
       "      <td>17073.0</td>\n",
       "      <td>No</td>\n",
       "      <td>Yes</td>\n",
       "      <td>No</td>\n",
       "      <td>Yes</td>\n",
       "    </tr>\n",
       "    <tr>\n",
       "      <th>1</th>\n",
       "      <td>2</td>\n",
       "      <td>27-05-2024</td>\n",
       "      <td>Inside Rangamati</td>\n",
       "      <td>44</td>\n",
       "      <td>M</td>\n",
       "      <td>Redmi Note 12 Pro 8/128</td>\n",
       "      <td>15546.0</td>\n",
       "      <td>Yes</td>\n",
       "      <td>No</td>\n",
       "      <td>No</td>\n",
       "      <td>Yes</td>\n",
       "    </tr>\n",
       "    <tr>\n",
       "      <th>2</th>\n",
       "      <td>3</td>\n",
       "      <td>27-05-2024</td>\n",
       "      <td>Rangamati Sadar</td>\n",
       "      <td>45</td>\n",
       "      <td>M</td>\n",
       "      <td>R-70 Turbo 5G 6/128</td>\n",
       "      <td>26516.0</td>\n",
       "      <td>Yes</td>\n",
       "      <td>No</td>\n",
       "      <td>No</td>\n",
       "      <td>Yes</td>\n",
       "    </tr>\n",
       "    <tr>\n",
       "      <th>3</th>\n",
       "      <td>4</td>\n",
       "      <td>27-05-2024</td>\n",
       "      <td>Rangamati Sadar</td>\n",
       "      <td>46</td>\n",
       "      <td>M</td>\n",
       "      <td>R-70 Turbo 5G 6/128</td>\n",
       "      <td>21927.0</td>\n",
       "      <td>No</td>\n",
       "      <td>No</td>\n",
       "      <td>No</td>\n",
       "      <td>Yes</td>\n",
       "    </tr>\n",
       "    <tr>\n",
       "      <th>4</th>\n",
       "      <td>5</td>\n",
       "      <td>27-05-2024</td>\n",
       "      <td>Outside Rangamati</td>\n",
       "      <td>27</td>\n",
       "      <td>F</td>\n",
       "      <td>Vivo T3x 5G 8/128</td>\n",
       "      <td>16718.0</td>\n",
       "      <td>Yes</td>\n",
       "      <td>No</td>\n",
       "      <td>No</td>\n",
       "      <td>Yes</td>\n",
       "    </tr>\n",
       "  </tbody>\n",
       "</table>\n",
       "</div>"
      ],
      "text/plain": [
       "   Cus.ID        Date      Cus. Location  Age Gender              Mobile Name  \\\n",
       "0       1  27-05-2024    Rangamati Sadar   49      F      Galaxy A55 5G 8/128   \n",
       "1       2  27-05-2024   Inside Rangamati   44      M  Redmi Note 12 Pro 8/128   \n",
       "2       3  27-05-2024    Rangamati Sadar   45      M      R-70 Turbo 5G 6/128   \n",
       "3       4  27-05-2024    Rangamati Sadar   46      M      R-70 Turbo 5G 6/128   \n",
       "4       5  27-05-2024  Outside Rangamati   27      F        Vivo T3x 5G 8/128   \n",
       "\n",
       "   Sell Price Does he/she Come from Facebook Page?  \\\n",
       "0     17073.0                                   No   \n",
       "1     15546.0                                  Yes   \n",
       "2     26516.0                                  Yes   \n",
       "3     21927.0                                   No   \n",
       "4     16718.0                                  Yes   \n",
       "\n",
       "  Does he/she Followed Our Page? Did he/she buy any mobile before?  \\\n",
       "0                            Yes                                No   \n",
       "1                             No                                No   \n",
       "2                             No                                No   \n",
       "3                             No                                No   \n",
       "4                             No                                No   \n",
       "\n",
       "  Did he/she hear of our shop before?  \n",
       "0                                 Yes  \n",
       "1                                 Yes  \n",
       "2                                 Yes  \n",
       "3                                 Yes  \n",
       "4                                 Yes  "
      ]
     },
     "execution_count": 1,
     "metadata": {},
     "output_type": "execute_result"
    }
   ],
   "source": [
    "import pandas as pd\n",
    "\n",
    "# Load dataset\n",
    "df = pd.read_csv('data.csv')\n",
    "df.head()"
   ]
  },
  {
   "cell_type": "markdown",
   "id": "732358bc",
   "metadata": {},
   "source": [
    "## 2. Exploratory Data Analysis (EDA)"
   ]
  },
  {
   "cell_type": "code",
   "execution_count": 2,
   "id": "95a3c989",
   "metadata": {},
   "outputs": [
    {
     "name": "stdout",
     "output_type": "stream",
     "text": [
      "<class 'pandas.core.frame.DataFrame'>\n",
      "RangeIndex: 8871 entries, 0 to 8870\n",
      "Data columns (total 11 columns):\n",
      " #   Column                                Non-Null Count  Dtype  \n",
      "---  ------                                --------------  -----  \n",
      " 0   Cus.ID                                8871 non-null   int64  \n",
      " 1   Date                                  8871 non-null   object \n",
      " 2   Cus. Location                         8871 non-null   object \n",
      " 3   Age                                   8871 non-null   int64  \n",
      " 4   Gender                                8871 non-null   object \n",
      " 5   Mobile Name                           8871 non-null   object \n",
      " 6   Sell Price                            8871 non-null   float64\n",
      " 7   Does he/she Come from Facebook Page?  8871 non-null   object \n",
      " 8   Does he/she Followed Our Page?        8871 non-null   object \n",
      " 9   Did he/she buy any mobile before?     8871 non-null   object \n",
      " 10  Did he/she hear of our shop before?   8871 non-null   object \n",
      "dtypes: float64(1), int64(2), object(8)\n",
      "memory usage: 762.5+ KB\n"
     ]
    },
    {
     "data": {
      "application/vnd.microsoft.datawrangler.viewer.v0+json": {
       "columns": [
        {
         "name": "index",
         "rawType": "object",
         "type": "string"
        },
        {
         "name": "0",
         "rawType": "int64",
         "type": "integer"
        }
       ],
       "ref": "59e54cc9-6eeb-44c7-ae66-0b48bc5c0915",
       "rows": [
        [
         "Cus.ID",
         "0"
        ],
        [
         "Date",
         "0"
        ],
        [
         "Cus. Location",
         "0"
        ],
        [
         "Age",
         "0"
        ],
        [
         "Gender",
         "0"
        ],
        [
         "Mobile Name",
         "0"
        ],
        [
         "Sell Price",
         "0"
        ],
        [
         "Does he/she Come from Facebook Page?",
         "0"
        ],
        [
         "Does he/she Followed Our Page?",
         "0"
        ],
        [
         "Did he/she buy any mobile before?",
         "0"
        ],
        [
         "Did he/she hear of our shop before?",
         "0"
        ]
       ],
       "shape": {
        "columns": 1,
        "rows": 11
       }
      },
      "text/plain": [
       "Cus.ID                                  0\n",
       "Date                                    0\n",
       "Cus. Location                           0\n",
       "Age                                     0\n",
       "Gender                                  0\n",
       "Mobile Name                             0\n",
       "Sell Price                              0\n",
       "Does he/she Come from Facebook Page?    0\n",
       "Does he/she Followed Our Page?          0\n",
       "Did he/she buy any mobile before?       0\n",
       "Did he/she hear of our shop before?     0\n",
       "dtype: int64"
      ]
     },
     "execution_count": 2,
     "metadata": {},
     "output_type": "execute_result"
    }
   ],
   "source": [
    "df.info()\n",
    "df.describe(include='all')\n",
    "df.isnull().sum()"
   ]
  },
  {
   "cell_type": "markdown",
   "id": "a8ca9adc",
   "metadata": {},
   "source": [
    "## 3. Feature Engineering"
   ]
  },
  {
   "cell_type": "code",
   "execution_count": 3,
   "id": "c332cde8",
   "metadata": {},
   "outputs": [
    {
     "ename": "KeyError",
     "evalue": "'came_from_facebook'",
     "output_type": "error",
     "traceback": [
      "\u001b[0;31m---------------------------------------------------------------------------\u001b[0m",
      "\u001b[0;31mKeyError\u001b[0m                                  Traceback (most recent call last)",
      "File \u001b[0;32m~/anaconda3/envs/machine-learning-env/lib/python3.10/site-packages/pandas/core/indexes/base.py:3791\u001b[0m, in \u001b[0;36mIndex.get_loc\u001b[0;34m(self, key)\u001b[0m\n\u001b[1;32m   3790\u001b[0m \u001b[38;5;28;01mtry\u001b[39;00m:\n\u001b[0;32m-> 3791\u001b[0m     \u001b[38;5;28;01mreturn\u001b[39;00m \u001b[38;5;28;43mself\u001b[39;49m\u001b[38;5;241;43m.\u001b[39;49m\u001b[43m_engine\u001b[49m\u001b[38;5;241;43m.\u001b[39;49m\u001b[43mget_loc\u001b[49m\u001b[43m(\u001b[49m\u001b[43mcasted_key\u001b[49m\u001b[43m)\u001b[49m\n\u001b[1;32m   3792\u001b[0m \u001b[38;5;28;01mexcept\u001b[39;00m \u001b[38;5;167;01mKeyError\u001b[39;00m \u001b[38;5;28;01mas\u001b[39;00m err:\n",
      "File \u001b[0;32mindex.pyx:152\u001b[0m, in \u001b[0;36mpandas._libs.index.IndexEngine.get_loc\u001b[0;34m()\u001b[0m\n",
      "File \u001b[0;32mindex.pyx:181\u001b[0m, in \u001b[0;36mpandas._libs.index.IndexEngine.get_loc\u001b[0;34m()\u001b[0m\n",
      "File \u001b[0;32mpandas/_libs/hashtable_class_helper.pxi:7080\u001b[0m, in \u001b[0;36mpandas._libs.hashtable.PyObjectHashTable.get_item\u001b[0;34m()\u001b[0m\n",
      "File \u001b[0;32mpandas/_libs/hashtable_class_helper.pxi:7088\u001b[0m, in \u001b[0;36mpandas._libs.hashtable.PyObjectHashTable.get_item\u001b[0;34m()\u001b[0m\n",
      "\u001b[0;31mKeyError\u001b[0m: 'came_from_facebook'",
      "\nThe above exception was the direct cause of the following exception:\n",
      "\u001b[0;31mKeyError\u001b[0m                                  Traceback (most recent call last)",
      "Cell \u001b[0;32mIn[3], line 2\u001b[0m\n\u001b[1;32m      1\u001b[0m \u001b[38;5;66;03m# Feature combinations\u001b[39;00m\n\u001b[0;32m----> 2\u001b[0m df[\u001b[38;5;124m'\u001b[39m\u001b[38;5;124msocial_engagement\u001b[39m\u001b[38;5;124m'\u001b[39m] \u001b[38;5;241m=\u001b[39m \u001b[43mdf\u001b[49m\u001b[43m[\u001b[49m\u001b[38;5;124;43m'\u001b[39;49m\u001b[38;5;124;43mcame_from_facebook\u001b[39;49m\u001b[38;5;124;43m'\u001b[39;49m\u001b[43m]\u001b[49m \u001b[38;5;241m+\u001b[39m df[\u001b[38;5;124m'\u001b[39m\u001b[38;5;124mfollows_facebook_page\u001b[39m\u001b[38;5;124m'\u001b[39m]\n\u001b[1;32m      3\u001b[0m df[\u001b[38;5;124m'\u001b[39m\u001b[38;5;124mbrand_by_location\u001b[39m\u001b[38;5;124m'\u001b[39m] \u001b[38;5;241m=\u001b[39m df[\u001b[38;5;124m'\u001b[39m\u001b[38;5;124mmobile_name\u001b[39m\u001b[38;5;124m'\u001b[39m] \u001b[38;5;241m+\u001b[39m \u001b[38;5;124m'\u001b[39m\u001b[38;5;124m_\u001b[39m\u001b[38;5;124m'\u001b[39m \u001b[38;5;241m+\u001b[39m df[\u001b[38;5;124m'\u001b[39m\u001b[38;5;124mcustomer_location\u001b[39m\u001b[38;5;124m'\u001b[39m]\n\u001b[1;32m      4\u001b[0m df[\u001b[38;5;124m'\u001b[39m\u001b[38;5;124mgender_social_source\u001b[39m\u001b[38;5;124m'\u001b[39m] \u001b[38;5;241m=\u001b[39m df[\u001b[38;5;124m'\u001b[39m\u001b[38;5;124mgender\u001b[39m\u001b[38;5;124m'\u001b[39m] \u001b[38;5;241m+\u001b[39m \u001b[38;5;124m'\u001b[39m\u001b[38;5;124m_\u001b[39m\u001b[38;5;124m'\u001b[39m \u001b[38;5;241m+\u001b[39m df[\u001b[38;5;124m'\u001b[39m\u001b[38;5;124mcame_from_facebook\u001b[39m\u001b[38;5;124m'\u001b[39m]\u001b[38;5;241m.\u001b[39mastype(\u001b[38;5;28mstr\u001b[39m)\n",
      "File \u001b[0;32m~/anaconda3/envs/machine-learning-env/lib/python3.10/site-packages/pandas/core/frame.py:3893\u001b[0m, in \u001b[0;36mDataFrame.__getitem__\u001b[0;34m(self, key)\u001b[0m\n\u001b[1;32m   3891\u001b[0m \u001b[38;5;28;01mif\u001b[39;00m \u001b[38;5;28mself\u001b[39m\u001b[38;5;241m.\u001b[39mcolumns\u001b[38;5;241m.\u001b[39mnlevels \u001b[38;5;241m>\u001b[39m \u001b[38;5;241m1\u001b[39m:\n\u001b[1;32m   3892\u001b[0m     \u001b[38;5;28;01mreturn\u001b[39;00m \u001b[38;5;28mself\u001b[39m\u001b[38;5;241m.\u001b[39m_getitem_multilevel(key)\n\u001b[0;32m-> 3893\u001b[0m indexer \u001b[38;5;241m=\u001b[39m \u001b[38;5;28;43mself\u001b[39;49m\u001b[38;5;241;43m.\u001b[39;49m\u001b[43mcolumns\u001b[49m\u001b[38;5;241;43m.\u001b[39;49m\u001b[43mget_loc\u001b[49m\u001b[43m(\u001b[49m\u001b[43mkey\u001b[49m\u001b[43m)\u001b[49m\n\u001b[1;32m   3894\u001b[0m \u001b[38;5;28;01mif\u001b[39;00m is_integer(indexer):\n\u001b[1;32m   3895\u001b[0m     indexer \u001b[38;5;241m=\u001b[39m [indexer]\n",
      "File \u001b[0;32m~/anaconda3/envs/machine-learning-env/lib/python3.10/site-packages/pandas/core/indexes/base.py:3798\u001b[0m, in \u001b[0;36mIndex.get_loc\u001b[0;34m(self, key)\u001b[0m\n\u001b[1;32m   3793\u001b[0m     \u001b[38;5;28;01mif\u001b[39;00m \u001b[38;5;28misinstance\u001b[39m(casted_key, \u001b[38;5;28mslice\u001b[39m) \u001b[38;5;129;01mor\u001b[39;00m (\n\u001b[1;32m   3794\u001b[0m         \u001b[38;5;28misinstance\u001b[39m(casted_key, abc\u001b[38;5;241m.\u001b[39mIterable)\n\u001b[1;32m   3795\u001b[0m         \u001b[38;5;129;01mand\u001b[39;00m \u001b[38;5;28many\u001b[39m(\u001b[38;5;28misinstance\u001b[39m(x, \u001b[38;5;28mslice\u001b[39m) \u001b[38;5;28;01mfor\u001b[39;00m x \u001b[38;5;129;01min\u001b[39;00m casted_key)\n\u001b[1;32m   3796\u001b[0m     ):\n\u001b[1;32m   3797\u001b[0m         \u001b[38;5;28;01mraise\u001b[39;00m InvalidIndexError(key)\n\u001b[0;32m-> 3798\u001b[0m     \u001b[38;5;28;01mraise\u001b[39;00m \u001b[38;5;167;01mKeyError\u001b[39;00m(key) \u001b[38;5;28;01mfrom\u001b[39;00m \u001b[38;5;21;01merr\u001b[39;00m\n\u001b[1;32m   3799\u001b[0m \u001b[38;5;28;01mexcept\u001b[39;00m \u001b[38;5;167;01mTypeError\u001b[39;00m:\n\u001b[1;32m   3800\u001b[0m     \u001b[38;5;66;03m# If we have a listlike key, _check_indexing_error will raise\u001b[39;00m\n\u001b[1;32m   3801\u001b[0m     \u001b[38;5;66;03m#  InvalidIndexError. Otherwise we fall through and re-raise\u001b[39;00m\n\u001b[1;32m   3802\u001b[0m     \u001b[38;5;66;03m#  the TypeError.\u001b[39;00m\n\u001b[1;32m   3803\u001b[0m     \u001b[38;5;28mself\u001b[39m\u001b[38;5;241m.\u001b[39m_check_indexing_error(key)\n",
      "\u001b[0;31mKeyError\u001b[0m: 'came_from_facebook'"
     ]
    }
   ],
   "source": [
    "# Feature combinations\n",
    "df['social_engagement'] = df['came_from_facebook'] + df['follows_facebook_page']\n",
    "df['brand_by_location'] = df['mobile_name'] + '_' + df['customer_location']\n",
    "df['gender_social_source'] = df['gender'] + '_' + df['came_from_facebook'].astype(str)\n",
    "df['fb_heard_combo'] = df['follows_facebook_page'] * df['came_from_facebook']"
   ]
  },
  {
   "cell_type": "markdown",
   "id": "16349e92",
   "metadata": {},
   "source": [
    "## 4. Encoding Categorical Features"
   ]
  },
  {
   "cell_type": "code",
   "execution_count": null,
   "id": "3d02e5f0",
   "metadata": {},
   "outputs": [],
   "source": [
    "from sklearn.preprocessing import LabelEncoder\n",
    "\n",
    "categorical_cols = ['mobile_name', 'customer_location', 'heard_about_shop', 'gender', 'brand_by_location', 'gender_social_source']\n",
    "le = LabelEncoder()\n",
    "for col in categorical_cols:\n",
    "    df[col] = le.fit_transform(df[col])"
   ]
  },
  {
   "cell_type": "markdown",
   "id": "393f8161",
   "metadata": {},
   "source": [
    "## 5. Mutual Information / Feature Importance"
   ]
  },
  {
   "cell_type": "code",
   "execution_count": null,
   "id": "e2d35143",
   "metadata": {},
   "outputs": [],
   "source": [
    "from sklearn.feature_selection import mutual_info_classif\n",
    "\n",
    "X = df.drop('returning_customer', axis=1)\n",
    "y = df['returning_customer']\n",
    "mi = mutual_info_classif(X, y, discrete_features='auto')\n",
    "mi_series = pd.Series(mi, index=X.columns).sort_values(ascending=False)\n",
    "mi_series"
   ]
  },
  {
   "cell_type": "markdown",
   "id": "2cccae42",
   "metadata": {},
   "source": [
    "## 6. Model Building (Logistic Regression as Baseline)"
   ]
  },
  {
   "cell_type": "code",
   "execution_count": null,
   "id": "b43d3450",
   "metadata": {},
   "outputs": [],
   "source": [
    "from sklearn.model_selection import train_test_split\n",
    "from sklearn.linear_model import LogisticRegression\n",
    "from sklearn.metrics import classification_report\n",
    "\n",
    "X_train, X_val, y_train, y_val = train_test_split(X, y, test_size=0.2, random_state=1)\n",
    "model_lr = LogisticRegression(max_iter=1000)\n",
    "model_lr.fit(X_train, y_train)\n",
    "y_pred = model_lr.predict(X_val)\n",
    "print(classification_report(y_val, y_pred))"
   ]
  },
  {
   "cell_type": "markdown",
   "id": "b4cc96ea",
   "metadata": {},
   "source": [
    "## 7. Cross-Validation & Model Comparison"
   ]
  },
  {
   "cell_type": "code",
   "execution_count": null,
   "id": "c3a8f870",
   "metadata": {},
   "outputs": [],
   "source": [
    "from sklearn.ensemble import RandomForestClassifier\n",
    "from sklearn.model_selection import cross_val_score\n",
    "\n",
    "model_rf = RandomForestClassifier(random_state=1)\n",
    "scores = cross_val_score(model_rf, X, y, cv=5, scoring='accuracy')\n",
    "print('Random Forest CV Accuracy:', scores.mean())"
   ]
  },
  {
   "cell_type": "markdown",
   "id": "ead94bf0",
   "metadata": {},
   "source": [
    "## 8. Model Evaluation & Visualization"
   ]
  },
  {
   "cell_type": "code",
   "execution_count": null,
   "id": "68cc5f83",
   "metadata": {},
   "outputs": [],
   "source": [
    "from sklearn.metrics import confusion_matrix, roc_auc_score\n",
    "import seaborn as sns\n",
    "import matplotlib.pyplot as plt\n",
    "\n",
    "model_rf.fit(X_train, y_train)\n",
    "y_pred_rf = model_rf.predict(X_val)\n",
    "y_prob_rf = model_rf.predict_proba(X_val)[:,1]\n",
    "print(classification_report(y_val, y_pred_rf))\n",
    "print('ROC AUC:', roc_auc_score(y_val, y_prob_rf))\n",
    "\n",
    "sns.heatmap(confusion_matrix(y_val, y_pred_rf), annot=True, fmt='d')\n",
    "plt.title('Confusion Matrix')\n",
    "plt.show()"
   ]
  },
  {
   "cell_type": "markdown",
   "id": "6c893813",
   "metadata": {},
   "source": [
    "## 9. Hyperparameter Tuning"
   ]
  },
  {
   "cell_type": "code",
   "execution_count": null,
   "id": "6412f788",
   "metadata": {},
   "outputs": [],
   "source": [
    "from sklearn.model_selection import GridSearchCV\n",
    "\n",
    "params = {'n_estimators': [100, 200], 'max_depth': [3, 5, 10]}\n",
    "grid = GridSearchCV(RandomForestClassifier(), param_grid=params, cv=5, scoring='accuracy')\n",
    "grid.fit(X_train, y_train)\n",
    "print('Best Params:', grid.best_params_)\n",
    "print('Best Score:', grid.best_score_)"
   ]
  },
  {
   "cell_type": "markdown",
   "id": "daa3fefe",
   "metadata": {},
   "source": [
    "## 10. Save Final Model"
   ]
  },
  {
   "cell_type": "code",
   "execution_count": null,
   "id": "d7df0245",
   "metadata": {},
   "outputs": [],
   "source": [
    "import joblib\n",
    "joblib.dump(grid.best_estimator_, 'final_model.pkl')"
   ]
  }
 ],
 "metadata": {
  "kernelspec": {
   "display_name": "machine-learning-env",
   "language": "python",
   "name": "python3"
  },
  "language_info": {
   "codemirror_mode": {
    "name": "ipython",
    "version": 3
   },
   "file_extension": ".py",
   "mimetype": "text/x-python",
   "name": "python",
   "nbconvert_exporter": "python",
   "pygments_lexer": "ipython3",
   "version": "3.10.13"
  }
 },
 "nbformat": 4,
 "nbformat_minor": 5
}
